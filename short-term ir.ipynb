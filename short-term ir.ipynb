{
 "metadata": {
  "name": "short-term ir"
 },
 "nbformat": 3,
 "nbformat_minor": 0,
 "worksheets": [
  {
   "cells": [
    {
     "cell_type": "code",
     "collapsed": false,
     "input": [
      "from pyoracle import *\n",
      "import Resources.PyOracle.IR\n",
      "import math"
     ],
     "language": "python",
     "metadata": {},
     "outputs": [],
     "prompt_number": 1
    },
    {
     "cell_type": "code",
     "collapsed": false,
     "input": [
      "fname = 'audio/prokofiev.wav'\n",
      "fft_size = 8192\n",
      "hop_size = 8192\n",
      "features = make_features(fname, fft_size, hop_size)"
     ],
     "language": "python",
     "metadata": {},
     "outputs": [
      {
       "output_type": "stream",
       "stream": "stdout",
       "text": [
        "sample_rate=44100\n",
        "num_channels=2\n",
        "sample_width=2\n",
        "num_frames=2006361, num_secs=45.000000\n",
        "bytes_per_frame=4\n",
        "bytes_per_second=176400\n",
        "bytes_per_buffer=65536\n"
       ]
      }
     ],
     "prompt_number": 86
    },
    {
     "cell_type": "code",
     "collapsed": false,
     "input": [
      "oracle = make_oracle(0.1, features, 'mfcc', 10)\n",
      "code, compror = Resources.PyOracle.IR.encode(oracle)"
     ],
     "language": "python",
     "metadata": {},
     "outputs": [],
     "prompt_number": 87
    },
    {
     "cell_type": "code",
     "collapsed": false,
     "input": [
      "def ent(x):\n",
      "    n = sum(x)\n",
      "    h = 0\n",
      "    for i in range(len(x)):\n",
      "        p = float(x[i])/n\n",
      "        h = h-p*math.log(p,2)\n",
      "    return h"
     ],
     "language": "python",
     "metadata": {},
     "outputs": [],
     "prompt_number": 4
    },
    {
     "cell_type": "code",
     "collapsed": false,
     "input": [
      "cw = [0] * len(code)\n",
      "for i, c in enumerate(code):\n",
      "    cw[i] = c[0]+1"
     ],
     "language": "python",
     "metadata": {},
     "outputs": [],
     "prompt_number": 88
    },
    {
     "cell_type": "code",
     "collapsed": false,
     "input": [
      "c0 = [1 if x[0] == 0 else 0 for x in code]"
     ],
     "language": "python",
     "metadata": {},
     "outputs": [],
     "prompt_number": 89
    },
    {
     "cell_type": "code",
     "collapsed": false,
     "input": [
      "window_size = 10 # arbitrary\n",
      "h0 = [0] * len(cw)\n",
      "for i in range(0, len(c0)):\n",
      "    cs = cumsum(c0[i:i+window_size])\n",
      "    # h0[i] = sum([math.log(x+0.00001, 2) for x in cs]) / window_size\n",
      "    h0[i] = math.log(sum(cs) + 0.0001, 2)"
     ],
     "language": "python",
     "metadata": {},
     "outputs": [],
     "prompt_number": 90
    },
    {
     "cell_type": "code",
     "collapsed": false,
     "input": [
      "plot(h0)"
     ],
     "language": "python",
     "metadata": {},
     "outputs": [
      {
       "output_type": "pyout",
       "prompt_number": 91,
       "text": [
        "[<matplotlib.lines.Line2D at 0x8d117d0>]"
       ]
      },
      {
       "output_type": "display_data",
       "png": "[encoded data removed]"
      }
     ],
     "prompt_number": 91
    },
    {
     "cell_type": "code",
     "collapsed": false,
     "input": [
      "dti = [1 if x[0] == 0 else x[0] for x in code]"
     ],
     "language": "python",
     "metadata": {},
     "outputs": [],
     "prompt_number": 92
    },
    {
     "cell_type": "code",
     "collapsed": false,
     "input": [
      "ti = cumsum(dti)"
     ],
     "language": "python",
     "metadata": {},
     "outputs": [],
     "prompt_number": 93
    },
    {
     "cell_type": "code",
     "collapsed": false,
     "input": [
      "h = [0]*len(cw)"
     ],
     "language": "python",
     "metadata": {},
     "outputs": [],
     "prompt_number": 94
    },
    {
     "cell_type": "code",
     "collapsed": false,
     "input": [
      "for i in range(1, len(cw)):\n",
      "    h[i] = ent(cw[0:i+1])"
     ],
     "language": "python",
     "metadata": {},
     "outputs": [],
     "prompt_number": 95
    },
    {
     "cell_type": "code",
     "collapsed": false,
     "input": [
      "h = array(h)\n",
      "h0 = array(h0)\n",
      "alpha = 1\n",
      "ir = alpha*h0-h"
     ],
     "language": "python",
     "metadata": {},
     "outputs": [],
     "prompt_number": 96
    },
    {
     "cell_type": "code",
     "collapsed": false,
     "input": [
      "plot(ti, ir)\n",
      "print len(compror), len(cw), len(ti), len(ir), len(oracle)"
     ],
     "language": "python",
     "metadata": {},
     "outputs": [
      {
       "output_type": "stream",
       "stream": "stdout",
       "text": [
        "6 15 15 15 26\n"
       ]
      },
      {
       "output_type": "display_data",
       "png": "[encoded data removed]"
      }
     ],
     "prompt_number": 97
    },
    {
     "cell_type": "code",
     "collapsed": false,
     "input": [],
     "language": "python",
     "metadata": {},
     "outputs": []
    }
   ],
   "metadata": {}
  }
 ]
}