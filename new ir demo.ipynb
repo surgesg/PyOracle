{
 "metadata": {
  "name": "new ir demo"
 },
 "nbformat": 3,
 "nbformat_minor": 0,
 "worksheets": [
  {
   "cells": [
    {
     "cell_type": "code",
     "collapsed": false,
     "input": [
      "import pyoracle\n",
      "%load_ext autoreload\n",
      "%autoreload 2"
     ],
     "language": "python",
     "metadata": {},
     "outputs": [],
     "prompt_number": 1
    },
    {
     "cell_type": "code",
     "collapsed": false,
     "input": [
      "filename = 'audio/prokofiev.wav'\n",
      "fft_size = 8192\n",
      "hop_size = 4096"
     ],
     "language": "python",
     "metadata": {},
     "outputs": [],
     "prompt_number": 2
    },
    {
     "cell_type": "code",
     "collapsed": false,
     "input": [
      "features = pyoracle.make_features(filename, fft_size, hop_size)"
     ],
     "language": "python",
     "metadata": {},
     "outputs": [
      {
       "output_type": "stream",
       "stream": "stdout",
       "text": [
        "sample_rate=44100\n",
        "num_channels=2\n",
        "sample_width=2\n",
        "num_frames=2006361, num_secs=45.000000\n",
        "bytes_per_frame=4\n",
        "bytes_per_second=176400\n",
        "bytes_per_buffer=65536\n"
       ]
      },
      {
       "output_type": "stream",
       "stream": "stderr",
       "text": [
        "/Library/Frameworks/Python.framework/Versions/7.3/lib/python2.7/site-packages/bregman/features.py:309: RuntimeWarning: invalid value encountered in divide\n",
        "  self.X = (self.X.T * self._logfrqs).sum(1) / self.X.T.sum(1)\n"
       ]
      }
     ],
     "prompt_number": 3
    },
    {
     "cell_type": "code",
     "collapsed": false,
     "input": [
      "rge = (0.001, 0.1, 0.001)\n",
      "ideal_t = pyoracle.calculate_ideal_threshold(rge, features, 'mfcc', 10)"
     ],
     "language": "python",
     "metadata": {},
     "outputs": [],
     "prompt_number": 19
    },
    {
     "cell_type": "code",
     "collapsed": false,
     "input": [
      "# plot IR vs. threshold\n",
      "thresholds = ideal_t[1]\n",
      "plot( [t[1] for t in thresholds], [t[0] for t in thresholds])"
     ],
     "language": "python",
     "metadata": {},
     "outputs": [
      {
       "output_type": "pyout",
       "prompt_number": 20,
       "text": [
        "[<matplotlib.lines.Line2D at 0x97b25f0>]"
       ]
      },
      {
       "output_type": "display_data",
       "png": "[encoded data removed]"
      }
     ],
     "prompt_number": 20
    },
    {
     "cell_type": "code",
     "collapsed": false,
     "input": [
      "ideal_oracle = pyoracle.make_oracle(ideal_t[0][1], features, 'mfcc', 10)\n",
      "prok_ir = pyoracle.calculate_ir(ideal_oracle)"
     ],
     "language": "python",
     "metadata": {},
     "outputs": [],
     "prompt_number": 21
    },
    {
     "cell_type": "code",
     "collapsed": false,
     "input": [
      "plot(prok_ir[0])"
     ],
     "language": "python",
     "metadata": {},
     "outputs": [
      {
       "output_type": "pyout",
       "prompt_number": 24,
       "text": [
        "[<matplotlib.lines.Line2D at 0x9586470>]"
       ]
      },
      {
       "output_type": "display_data",
       "png": "[encoded data removed]"
      }
     ],
     "prompt_number": 24
    },
    {
     "cell_type": "code",
     "collapsed": false,
     "input": [],
     "language": "python",
     "metadata": {},
     "outputs": []
    }
   ],
   "metadata": {}
  }
 ]
}