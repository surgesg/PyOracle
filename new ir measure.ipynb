{
 "metadata": {
  "name": "new ir measure"
 },
 "nbformat": 3,
 "nbformat_minor": 0,
 "worksheets": [
  {
   "cells": [
    {
     "cell_type": "code",
     "collapsed": false,
     "input": [
      "from pyoracle import *\n",
      "import Resources.PyOracle.IR\n",
      "import math"
     ],
     "language": "python",
     "metadata": {},
     "outputs": [],
     "prompt_number": 1
    },
    {
     "cell_type": "code",
     "collapsed": false,
     "input": [
      "fname = 'audio/bach.wav'\n",
      "fft_size = 8192\n",
      "hop_size = 8192\n",
      "features = make_features(fname, fft_size, hop_size)"
     ],
     "language": "python",
     "metadata": {},
     "outputs": [
      {
       "output_type": "stream",
       "stream": "stdout",
       "text": [
        "sample_rate=44100\n",
        "num_channels=2\n",
        "sample_width=2\n",
        "num_frames=9085564, num_secs=206.000000\n",
        "bytes_per_frame=4\n",
        "bytes_per_second=176400\n",
        "bytes_per_buffer=65536\n"
       ]
      },
      {
       "output_type": "stream",
       "stream": "stderr",
       "text": [
        "/Library/Frameworks/Python.framework/Versions/7.3/lib/python2.7/site-packages/bregman/features.py:309: RuntimeWarning: invalid value encountered in divide\n",
        "  self.X = (self.X.T * self._logfrqs).sum(1) / self.X.T.sum(1)\n"
       ]
      }
     ],
     "prompt_number": 2
    },
    {
     "cell_type": "code",
     "collapsed": false,
     "input": [
      "oracle = make_oracle(0.1, features, 'mfcc', 10)\n",
      "code, compror = Resources.PyOracle.IR.encode(oracle)"
     ],
     "language": "python",
     "metadata": {},
     "outputs": [],
     "prompt_number": 3
    },
    {
     "cell_type": "code",
     "collapsed": true,
     "input": [
      "print code"
     ],
     "language": "python",
     "metadata": {},
     "outputs": [
      {
       "output_type": "stream",
       "stream": "stdout",
       "text": [
        "[(0, 1), (0, 2), (1, 1), (0, 4), (1, 4), (0, 6), (2, 3), (0, 9), (2, 4), (1, 5), (0, 13), (1, 4), (2, 4), (2, 12), (0, 19), (2, 4), (0, 22), (2, 8), (4, 24), (16, 13), (0, 45), (0, 46), (0, 47), (0, 48), (1, 2), (0, 50), (1, 47), (0, 52), (0, 53), (1, 50), (1, 19), (3, 50), (1, 50), (1, 47), (2, 47), (0, 63), (4, 57), (3, 47), (0, 71), (1, 52), (0, 73), (1, 47), (1, 50), (1, 19), (0, 77), (1, 50), (2, 58), (2, 60), (1, 45), (1, 45), (0, 85), (1, 52), (0, 87), (2, 24), (17, 10), (3, 43), (0, 110), (0, 111)]\n"
       ]
      }
     ],
     "prompt_number": 4
    },
    {
     "cell_type": "code",
     "collapsed": false,
     "input": [
      "def ent(x):\n",
      "    n = sum(x)\n",
      "    h = 0\n",
      "    for i in range(len(x)):\n",
      "        p = float(x[i])/n\n",
      "        h = h-p*math.log(p,2)\n",
      "    return h"
     ],
     "language": "python",
     "metadata": {},
     "outputs": [],
     "prompt_number": 5
    },
    {
     "cell_type": "code",
     "collapsed": false,
     "input": [
      "cw = [0] * len(code)\n",
      "for i, c in enumerate(code):\n",
      "    cw[i] = c[0]+1"
     ],
     "language": "python",
     "metadata": {},
     "outputs": [],
     "prompt_number": 16
    },
    {
     "cell_type": "code",
     "collapsed": false,
     "input": [
      "print code\n",
      "print cw"
     ],
     "language": "python",
     "metadata": {},
     "outputs": [
      {
       "output_type": "stream",
       "stream": "stdout",
       "text": [
        "[(0, 1), (0, 2), (1, 1), (0, 4), (1, 4), (0, 6), (2, 3), (0, 9), (2, 4), (1, 5), (0, 13), (1, 4), (2, 4), (2, 12), (0, 19), (2, 4), (0, 22), (2, 8), (4, 24), (16, 13), (0, 45), (0, 46), (0, 47), (0, 48), (1, 2), (0, 50), (1, 47), (0, 52), (0, 53), (1, 50), (1, 19), (3, 50), (1, 50), (1, 47), (2, 47), (0, 63), (4, 57), (3, 47), (0, 71), (1, 52), (0, 73), (1, 47), (1, 50), (1, 19), (0, 77), (1, 50), (2, 58), (2, 60), (1, 45), (1, 45), (0, 85), (1, 52), (0, 87), (2, 24), (17, 10), (3, 43), (0, 110), (0, 111)]\n",
        "[1, 1, 2, 1, 2, 1, 3, 1, 3, 2, 1, 2, 3, 3, 1, 3, 1, 3, 5, 17, 1, 1, 1, 1, 2, 1, 2, 1, 1, 2, 2, 4, 2, 2, 3, 1, 5, 4, 1, 2, 1, 2, 2, 2, 1, 2, 3, 3, 2, 2, 1, 2, 1, 3, 18, 4, 1, 1]\n"
       ]
      }
     ],
     "prompt_number": 33
    },
    {
     "cell_type": "code",
     "collapsed": false,
     "input": [
      "c0 = [1 if x[0] == 0 else 0 for x in code]"
     ],
     "language": "python",
     "metadata": {},
     "outputs": [],
     "prompt_number": 18
    },
    {
     "cell_type": "code",
     "collapsed": false,
     "input": [
      "h0 = [math.log(x, 2) for x in cumsum(c0)]"
     ],
     "language": "python",
     "metadata": {},
     "outputs": [],
     "prompt_number": 19
    },
    {
     "cell_type": "code",
     "collapsed": false,
     "input": [
      "dti = [1 if x[0] == 0 else x[0] for x in code]\n",
      "new_dti = [1 if x[0] == 0 "
     ],
     "language": "python",
     "metadata": {},
     "outputs": [],
     "prompt_number": 32
    },
    {
     "cell_type": "code",
     "collapsed": false,
     "input": [
      "ti = cumsum(dti)"
     ],
     "language": "python",
     "metadata": {},
     "outputs": [],
     "prompt_number": 21
    },
    {
     "cell_type": "code",
     "collapsed": false,
     "input": [
      "h = [0]*len(cw)"
     ],
     "language": "python",
     "metadata": {},
     "outputs": [],
     "prompt_number": 22
    },
    {
     "cell_type": "code",
     "collapsed": false,
     "input": [
      "for i in range(1, len(cw)):\n",
      "    h[i] = ent(cw[0:i+1])"
     ],
     "language": "python",
     "metadata": {},
     "outputs": [],
     "prompt_number": 30
    },
    {
     "cell_type": "code",
     "collapsed": false,
     "input": [
      "h = array(h)\n",
      "h0 = array(h0)\n",
      "alpha = 1.07\n",
      "ir = alpha*h0-h\n",
      "plot(ti, ir)\n",
      "print len(code_2), len(compror), len(cw), len(ti), len(ir), len(oracle)"
     ],
     "language": "python",
     "metadata": {},
     "outputs": [
      {
       "output_type": "stream",
       "stream": "stdout",
       "text": [
        "111 35 58 58 58 112\n"
       ]
      },
      {
       "output_type": "display_data",
       "png": "[encoded data removed]"
      }
     ],
     "prompt_number": 49
    },
    {
     "cell_type": "code",
     "collapsed": false,
     "input": [
      "print len(ti[:-1]), len(diff(h0)), len(diff(h))\n",
      "plot(ti[:-1], (diff(h0)*alpha - diff(h)))"
     ],
     "language": "python",
     "metadata": {},
     "outputs": [
      {
       "output_type": "stream",
       "stream": "stdout",
       "text": [
        "57 57 57\n"
       ]
      },
      {
       "output_type": "pyout",
       "prompt_number": 46,
       "text": [
        "[<matplotlib.lines.Line2D at 0x90979b0>]"
       ]
      },
      {
       "output_type": "display_data",
       "png": "[encoded data removed]"
      }
     ],
     "prompt_number": 46
    },
    {
     "cell_type": "markdown",
     "metadata": {},
     "source": [
      "Plot below - surprise / novelty?"
     ]
    },
    {
     "cell_type": "code",
     "collapsed": false,
     "input": [
      "plot(ti[:-1], abs(diff(h0)*alpha - diff(h)))"
     ],
     "language": "python",
     "metadata": {},
     "outputs": [
      {
       "output_type": "pyout",
       "prompt_number": 48,
       "text": [
        "[<matplotlib.lines.Line2D at 0x96d34b0>]"
       ]
      },
      {
       "output_type": "display_data",
       "png": "[encoded data removed]"
      }
     ],
     "prompt_number": 48
    },
    {
     "cell_type": "code",
     "collapsed": false,
     "input": [],
     "language": "python",
     "metadata": {},
     "outputs": []
    }
   ],
   "metadata": {}
  }
 ]
}