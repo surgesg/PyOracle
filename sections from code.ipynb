{
 "metadata": {
  "name": "sections from code"
 },
 "nbformat": 3,
 "nbformat_minor": 0,
 "worksheets": [
  {
   "cells": [
    {
     "cell_type": "code",
     "collapsed": false,
     "input": [
      "%load_ext autoreload\n",
      "%autoreload 2"
     ],
     "language": "python",
     "metadata": {},
     "outputs": [],
     "prompt_number": 2
    },
    {
     "cell_type": "code",
     "collapsed": false,
     "input": [
      "import pyoracle"
     ],
     "language": "python",
     "metadata": {},
     "outputs": [],
     "prompt_number": 3
    },
    {
     "cell_type": "code",
     "collapsed": false,
     "input": [
      "filename = 'audio/prokofiev.wav'\n",
      "fft_size = 8192\n",
      "hop_size = 8192"
     ],
     "language": "python",
     "metadata": {},
     "outputs": [],
     "prompt_number": 4
    },
    {
     "cell_type": "code",
     "collapsed": false,
     "input": [
      "features = pyoracle.make_features(filename, fft_size, hop_size)"
     ],
     "language": "python",
     "metadata": {},
     "outputs": [
      {
       "output_type": "stream",
       "stream": "stdout",
       "text": [
        "sample_rate=44100\n",
        "num_channels=2\n",
        "sample_width=2\n",
        "num_frames=2006361, num_secs=45.000000\n",
        "bytes_per_frame=4\n",
        "bytes_per_second=176400\n",
        "bytes_per_buffer=65536\n"
       ]
      },
      {
       "output_type": "stream",
       "stream": "stderr",
       "text": [
        "/Users/Greg/anaconda/lib/python2.7/site-packages/bregman/features.py:309: RuntimeWarning: invalid value encountered in divide\n",
        "  self.X = (self.X.T * self._logfrqs).sum(1) / self.X.T.sum(1)\n"
       ]
      }
     ],
     "prompt_number": 5
    },
    {
     "cell_type": "code",
     "collapsed": false,
     "input": [
      "def average_events(events, n):\n",
      "    new_events = []\n",
      "    keys = events[0].keys()\n",
      "    \n",
      "    for i in range(0, len(events), n):\n",
      "        block = events[i:i+n]\n",
      "        tmp_event = {}\n",
      "        for key in keys:\n",
      "            # check if we have a vector or a scalar\n",
      "            if type(block[0][key]) == list:\n",
      "                l_vec = len(block[0][key]) # length of vector\n",
      "                feature = [0] * l_vec\n",
      "                for i in range(l_vec):\n",
      "                    feature[i] = float(sum([x[key][i] for x in block])) / n\n",
      "                tmp_event[key] = feature\n",
      "            else:    \n",
      "                tmp_event[key] = float(sum([x[key] for x in block])) / n\n",
      "        new_events.append(tmp_event)\n",
      "    return new_events"
     ],
     "language": "python",
     "metadata": {},
     "outputs": [],
     "prompt_number": 6
    },
    {
     "cell_type": "code",
     "collapsed": false,
     "input": [
      "ideal_t = pyoracle.calculate_ideal_threshold((0.1, 2.0, 0.05), features, 'mfcc', 5, 1, 'cum')"
     ],
     "language": "python",
     "metadata": {},
     "outputs": [
      {
       "output_type": "stream",
       "stream": "stderr",
       "text": [
        "Resources/PyOracle/IR.py:180: RuntimeWarning: divide by zero encountered in divide\n",
        "  H1 = H1/BL\n"
       ]
      }
     ],
     "prompt_number": 7
    },
    {
     "cell_type": "code",
     "collapsed": false,
     "input": [
      "oracle = pyoracle.make_oracle(ideal_t[0][1], features, 'mfcc', 5)"
     ],
     "language": "python",
     "metadata": {},
     "outputs": [],
     "prompt_number": 9
    },
    {
     "cell_type": "code",
     "collapsed": false,
     "input": [
      "IR, code, compror = pyoracle.calculate_ir(oracle, 1, 'cum')"
     ],
     "language": "python",
     "metadata": {},
     "outputs": [],
     "prompt_number": 10
    },
    {
     "cell_type": "code",
     "collapsed": false,
     "input": [
      "code"
     ],
     "language": "python",
     "metadata": {},
     "outputs": [
      {
       "output_type": "pyout",
       "prompt_number": 11,
       "text": [
        "[(0, 1),\n",
        " (0, 2),\n",
        " (0, 3),\n",
        " (0, 4),\n",
        " (2, 4),\n",
        " (2, 1),\n",
        " (2, 2),\n",
        " (3, 8),\n",
        " (0, 14),\n",
        " (0, 15),\n",
        " (1, 15),\n",
        " (1, 2),\n",
        " (0, 18),\n",
        " (5, 18),\n",
        " (0, 24),\n",
        " (4, 24),\n",
        " (19, 28),\n",
        " (0, 48),\n",
        " (0, 49)]"
       ]
      }
     ],
     "prompt_number": 11
    },
    {
     "cell_type": "code",
     "collapsed": false,
     "input": [
      "# make sections from code\n",
      "\n",
      "sections = []\n",
      "\n",
      "position = 0\n",
      "for block in code:\n",
      "    # (start_time, dur, label)\n",
      "    sections.append((position, block[0] + 1, block[1]))\n",
      "    position += block[0] + 1\n",
      "\n",
      "filtered_sections = []    \n",
      "    \n",
      "for i, sec in enumerate(sections):\n",
      "    if i < len(sections) - 1 and sec[2] == sections[i+1][2]:\n",
      "        new_sec = (sec[0], sec[1] + sections[i+1][1], sec[2])\n",
      "        filtered_sections.append(new_sec)\n",
      "    else:\n",
      "        filtered_sections.append(sec)"
     ],
     "language": "python",
     "metadata": {},
     "outputs": [],
     "prompt_number": 12
    },
    {
     "cell_type": "code",
     "collapsed": false,
     "input": [
      "sections"
     ],
     "language": "python",
     "metadata": {},
     "outputs": [
      {
       "output_type": "pyout",
       "prompt_number": 13,
       "text": [
        "[(0, 1, 1),\n",
        " (1, 1, 2),\n",
        " (2, 1, 3),\n",
        " (3, 1, 4),\n",
        " (4, 3, 4),\n",
        " (7, 3, 1),\n",
        " (10, 3, 2),\n",
        " (13, 4, 8),\n",
        " (17, 1, 14),\n",
        " (18, 1, 15),\n",
        " (19, 2, 15),\n",
        " (21, 2, 2),\n",
        " (23, 1, 18),\n",
        " (24, 6, 18),\n",
        " (30, 1, 24),\n",
        " (31, 5, 24),\n",
        " (36, 20, 28),\n",
        " (56, 1, 48),\n",
        " (57, 1, 49)]"
       ]
      }
     ],
     "prompt_number": 13
    },
    {
     "cell_type": "code",
     "collapsed": false,
     "input": [
      "filtered_sections"
     ],
     "language": "python",
     "metadata": {},
     "outputs": [
      {
       "output_type": "pyout",
       "prompt_number": 14,
       "text": [
        "[(0, 1, 1),\n",
        " (1, 1, 2),\n",
        " (2, 1, 3),\n",
        " (3, 4, 4),\n",
        " (4, 3, 4),\n",
        " (7, 3, 1),\n",
        " (10, 3, 2),\n",
        " (13, 4, 8),\n",
        " (17, 1, 14),\n",
        " (18, 3, 15),\n",
        " (19, 2, 15),\n",
        " (21, 2, 2),\n",
        " (23, 7, 18),\n",
        " (24, 6, 18),\n",
        " (30, 6, 24),\n",
        " (31, 5, 24),\n",
        " (36, 20, 28),\n",
        " (56, 1, 48),\n",
        " (57, 1, 49)]"
       ]
      }
     ],
     "prompt_number": 14
    },
    {
     "cell_type": "code",
     "collapsed": false,
     "input": [
      "starts = [s[0] for s in filtered_sections]"
     ],
     "language": "python",
     "metadata": {},
     "outputs": [],
     "prompt_number": 15
    },
    {
     "cell_type": "code",
     "collapsed": false,
     "input": [
      "plot(starts, range(0, len(starts)))"
     ],
     "language": "python",
     "metadata": {},
     "outputs": [
      {
       "output_type": "pyout",
       "prompt_number": 20,
       "text": [
        "[<matplotlib.lines.Line2D at 0x108db4cd0>]"
       ]
      },
      {
       "output_type": "display_data",
       "png": "[encoded data removed]"
      }
     ],
     "prompt_number": 20
    },
    {
     "cell_type": "code",
     "collapsed": false,
     "input": [],
     "language": "python",
     "metadata": {},
     "outputs": []
    }
   ],
   "metadata": {}
  }
 ]
}