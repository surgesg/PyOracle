{
 "metadata": {
  "name": "New Distance Metrics"
 },
 "nbformat": 3,
 "nbformat_minor": 0,
 "worksheets": [
  {
   "cells": [
    {
     "cell_type": "code",
     "collapsed": false,
     "input": [
      "# translating shlomo's matlab code\n",
      "# multinomial bregman \n",
      "\n",
      "# init these both with different random distributions\n",
      "# feat_vec_one = \n",
      "# feat_vec_two = \n",
      "#p = array([[0.5, 0.32, 0.7, 1.5, 0.77], [0.6, 0.23, 1.43, 5, 1]])\n",
      "#q = array([[0.25, 0.332, 0.17, 13.5, 0.177], [0.36, 0.243, 1.443, 5, 41]])\n",
      "\n",
      "p = array([0.5, 0.32, 0.7, 1.5, 0.77])\n",
      "q = array([0.25, 0.332, 0.17, 13.5, 0.177])"
     ],
     "language": "python",
     "metadata": {},
     "outputs": [],
     "prompt_number": 96
    },
    {
     "cell_type": "code",
     "collapsed": false,
     "input": [
      "def vector_to_distribution(q):\n",
      "    d = array(q)\n",
      "    # print d, d.shape\n",
      "    for i, data in enumerate(q):\n",
      "        d[i,:] = d[i,:] / sum(d[i,:])\n",
      "    return d"
     ],
     "language": "python",
     "metadata": {},
     "outputs": [],
     "prompt_number": 47
    },
    {
     "cell_type": "code",
     "collapsed": false,
     "input": [
      "d = vector_to_distribution(features)\n",
      "print d"
     ],
     "language": "python",
     "metadata": {},
     "outputs": [
      {
       "output_type": "stream",
       "stream": "stdout",
       "text": [
        "[[ 0.13192612  0.08443272  0.18469657  0.39577836  0.20316623]\n",
        " [ 0.07263923  0.02784504  0.17312349  0.60532688  0.12106538]]\n"
       ]
      }
     ],
     "prompt_number": 24
    },
    {
     "cell_type": "code",
     "collapsed": false,
     "input": [
      "def dist_to_multinomial(q):\n",
      "    '''\n",
      "    convert raw distributions to multinomial natural parameters\n",
      "    see : http://cosmal.ucsd.edu/~arshia/musant/?n=InformationGeometry.ExponentialFamilies\n",
      "    '''\n",
      "    \n",
      "    d = size(q, 1) # dimensions\n",
      "    n = size(q, 0) # num of distributions\n",
      "    \n",
      "    # normalize Qs to make sre they are distributions\n",
      "    q = vector_to_distribution(q)\n",
      "    \n",
      "    theta = zeros((n, d-1))\n",
      "    \n",
      "    for i, j in zip(range(0, n), range(0, d - 1)):\n",
      "        theta[i, j] = log(q[i,j] / q[i, d-1])\n",
      "        \n",
      "    return theta"
     ],
     "language": "python",
     "metadata": {},
     "outputs": [],
     "prompt_number": 26
    },
    {
     "cell_type": "code",
     "collapsed": false,
     "input": [
      "theta = dist_to_multinomial(features)"
     ],
     "language": "python",
     "metadata": {},
     "outputs": [],
     "prompt_number": 33
    },
    {
     "cell_type": "code",
     "collapsed": false,
     "input": [
      "plot(dist_to_multinomial(features)[1])"
     ],
     "language": "python",
     "metadata": {},
     "outputs": [
      {
       "output_type": "pyout",
       "prompt_number": 31,
       "text": [
        "[<matplotlib.lines.Line2D at 0x10517c690>]"
       ]
      },
      {
       "output_type": "display_data",
       "png": "[encoded data removed]"
      }
     ],
     "prompt_number": 31
    },
    {
     "cell_type": "code",
     "collapsed": false,
     "input": [
      "def multinomial_grad_f(theta):\n",
      "    # f is the cumulant function of the multinomial exponential canonical form\n",
      "    s = 0.0\n",
      "    \n",
      "    s = sum(exp(theta))\n",
      "    result = exp(theta) / (1+s)\n",
      "    \n",
      "    return result"
     ],
     "language": "python",
     "metadata": {},
     "outputs": [],
     "prompt_number": 32
    },
    {
     "cell_type": "code",
     "collapsed": false,
     "input": [
      "multinomial_grad_f(theta)"
     ],
     "language": "python",
     "metadata": {},
     "outputs": [
      {
       "output_type": "pyout",
       "prompt_number": 34,
       "text": [
        "array([[ 0.0824117 ,  0.12691401,  0.12691401,  0.12691401],\n",
        "       [ 0.12691401,  0.02919022,  0.12691401,  0.12691401]])"
       ]
      }
     ],
     "prompt_number": 34
    },
    {
     "cell_type": "code",
     "collapsed": false,
     "input": [
      "def F(p):\n",
      "    return log(1 + sum(exp(p)))"
     ],
     "language": "python",
     "metadata": {},
     "outputs": [],
     "prompt_number": 39
    },
    {
     "cell_type": "code",
     "collapsed": false,
     "input": [
      "def multinomial_bregman_div(p, q):\n",
      "    p = atleast_2d(p)\n",
      "    q = atleast_2d(q)\n",
      "    if size(p, 1) == 1 and size(q, 1) == 1:\n",
      "        pq = p - q\n",
      "        result = F(p) - F(q) - sum(pq * multinomial_grad_f(q))\n",
      "    elif size(p, 1) > 1:\n",
      "        result = zeros(size(p, 1))\n",
      "        for i in range(0, size(p, 1)):\n",
      "            pq = atleast_2d(p[:, i]).T - q\n",
      "            result[i] = F(p[:,i]) - F(q) - sum(pq * multinomial_grad_f(q))\n",
      "    elif size(q, 1) > 1:\n",
      "        result = zeros(size(q, 1))\n",
      "        for i in range(0, size(q, 1)):\n",
      "            pq = p-q[:, i]\n",
      "            result[i] = F(p) - F(q[:, i]) - sum(pq * multinomial_grad_f(q[:, i]))\n",
      "    return result"
     ],
     "language": "python",
     "metadata": {},
     "outputs": [],
     "prompt_number": 97
    },
    {
     "cell_type": "code",
     "collapsed": false,
     "input": [
      "multinomial_bregman_div(p, q)"
     ],
     "language": "python",
     "metadata": {},
     "outputs": [
      {
       "output_type": "pyout",
       "prompt_number": 98,
       "text": [
        "array([ 0.47395891,  0.54577462,  0.40306825,  0.20129657,  0.38038035])"
       ]
      }
     ],
     "prompt_number": 98
    },
    {
     "cell_type": "code",
     "collapsed": false,
     "input": [
      "atleast_2d(p[:,i]).T - q"
     ],
     "language": "python",
     "metadata": {},
     "outputs": [
      {
       "output_type": "pyout",
       "prompt_number": 90,
       "text": [
        "array([[  0.52 ,   0.438,   0.6  , -12.73 ,   0.593],\n",
        "       [  0.64 ,   0.757,  -0.443,  -4.   , -40.   ]])"
       ]
      }
     ],
     "prompt_number": 90
    },
    {
     "cell_type": "code",
     "collapsed": false,
     "input": [
      "t = array(p[:, i], shape=()"
     ],
     "language": "python",
     "metadata": {},
     "outputs": [],
     "prompt_number": 91
    },
    {
     "cell_type": "code",
     "collapsed": false,
     "input": [
      "t"
     ],
     "language": "python",
     "metadata": {},
     "outputs": [
      {
       "output_type": "pyout",
       "prompt_number": 92,
       "text": [
        "array([ 0.77,  1.  ])"
       ]
      }
     ],
     "prompt_number": 92
    },
    {
     "cell_type": "code",
     "collapsed": false,
     "input": [
      "shape(t)"
     ],
     "language": "python",
     "metadata": {},
     "outputs": [
      {
       "output_type": "pyout",
       "prompt_number": 93,
       "text": [
        "(2,)"
       ]
      }
     ],
     "prompt_number": 93
    },
    {
     "cell_type": "code",
     "collapsed": false,
     "input": [],
     "language": "python",
     "metadata": {},
     "outputs": []
    }
   ],
   "metadata": {}
  }
 ]
}